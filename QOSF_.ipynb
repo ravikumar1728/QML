{
  "nbformat": 4,
  "nbformat_minor": 0,
  "metadata": {
    "colab": {
      "name": "QOSF_.ipynb",
      "provenance": [],
      "collapsed_sections": []
    },
    "kernelspec": {
      "name": "python3",
      "display_name": "Python 3"
    },
    "language_info": {
      "name": "python"
    }
  },
  "cells": [
    {
      "cell_type": "markdown",
      "source": [
        "# Task 2 Encoding and Classifier"
      ],
      "metadata": {
        "id": "jhujUpbhLa2C"
      }
    },
    {
      "cell_type": "code",
      "source": [
        "!pip install pennylane"
      ],
      "metadata": {
        "colab": {
          "base_uri": "https://localhost:8080/"
        },
        "id": "F-77oC4cL9wg",
        "outputId": "8c9f2e04-b718-4a0d-cbe3-be35dfedf344"
      },
      "execution_count": 1,
      "outputs": [
        {
          "output_type": "stream",
          "name": "stdout",
          "text": [
            "Collecting pennylane\n",
            "  Downloading PennyLane-0.21.0-py3-none-any.whl (800 kB)\n",
            "\u001b[?25l\r\u001b[K     |▍                               | 10 kB 21.1 MB/s eta 0:00:01\r\u001b[K     |▉                               | 20 kB 20.7 MB/s eta 0:00:01\r\u001b[K     |█▎                              | 30 kB 11.8 MB/s eta 0:00:01\r\u001b[K     |█▋                              | 40 kB 10.0 MB/s eta 0:00:01\r\u001b[K     |██                              | 51 kB 4.7 MB/s eta 0:00:01\r\u001b[K     |██▌                             | 61 kB 5.5 MB/s eta 0:00:01\r\u001b[K     |██▉                             | 71 kB 6.0 MB/s eta 0:00:01\r\u001b[K     |███▎                            | 81 kB 6.2 MB/s eta 0:00:01\r\u001b[K     |███▊                            | 92 kB 6.9 MB/s eta 0:00:01\r\u001b[K     |████                            | 102 kB 5.4 MB/s eta 0:00:01\r\u001b[K     |████▌                           | 112 kB 5.4 MB/s eta 0:00:01\r\u001b[K     |█████                           | 122 kB 5.4 MB/s eta 0:00:01\r\u001b[K     |█████▎                          | 133 kB 5.4 MB/s eta 0:00:01\r\u001b[K     |█████▊                          | 143 kB 5.4 MB/s eta 0:00:01\r\u001b[K     |██████▏                         | 153 kB 5.4 MB/s eta 0:00:01\r\u001b[K     |██████▌                         | 163 kB 5.4 MB/s eta 0:00:01\r\u001b[K     |███████                         | 174 kB 5.4 MB/s eta 0:00:01\r\u001b[K     |███████▍                        | 184 kB 5.4 MB/s eta 0:00:01\r\u001b[K     |███████▉                        | 194 kB 5.4 MB/s eta 0:00:01\r\u001b[K     |████████▏                       | 204 kB 5.4 MB/s eta 0:00:01\r\u001b[K     |████████▋                       | 215 kB 5.4 MB/s eta 0:00:01\r\u001b[K     |█████████                       | 225 kB 5.4 MB/s eta 0:00:01\r\u001b[K     |█████████▍                      | 235 kB 5.4 MB/s eta 0:00:01\r\u001b[K     |█████████▉                      | 245 kB 5.4 MB/s eta 0:00:01\r\u001b[K     |██████████▎                     | 256 kB 5.4 MB/s eta 0:00:01\r\u001b[K     |██████████▋                     | 266 kB 5.4 MB/s eta 0:00:01\r\u001b[K     |███████████                     | 276 kB 5.4 MB/s eta 0:00:01\r\u001b[K     |███████████▌                    | 286 kB 5.4 MB/s eta 0:00:01\r\u001b[K     |███████████▉                    | 296 kB 5.4 MB/s eta 0:00:01\r\u001b[K     |████████████▎                   | 307 kB 5.4 MB/s eta 0:00:01\r\u001b[K     |████████████▊                   | 317 kB 5.4 MB/s eta 0:00:01\r\u001b[K     |█████████████                   | 327 kB 5.4 MB/s eta 0:00:01\r\u001b[K     |█████████████▌                  | 337 kB 5.4 MB/s eta 0:00:01\r\u001b[K     |██████████████                  | 348 kB 5.4 MB/s eta 0:00:01\r\u001b[K     |██████████████▎                 | 358 kB 5.4 MB/s eta 0:00:01\r\u001b[K     |██████████████▊                 | 368 kB 5.4 MB/s eta 0:00:01\r\u001b[K     |███████████████▏                | 378 kB 5.4 MB/s eta 0:00:01\r\u001b[K     |███████████████▋                | 389 kB 5.4 MB/s eta 0:00:01\r\u001b[K     |████████████████                | 399 kB 5.4 MB/s eta 0:00:01\r\u001b[K     |████████████████▍               | 409 kB 5.4 MB/s eta 0:00:01\r\u001b[K     |████████████████▉               | 419 kB 5.4 MB/s eta 0:00:01\r\u001b[K     |█████████████████▏              | 430 kB 5.4 MB/s eta 0:00:01\r\u001b[K     |█████████████████▋              | 440 kB 5.4 MB/s eta 0:00:01\r\u001b[K     |██████████████████              | 450 kB 5.4 MB/s eta 0:00:01\r\u001b[K     |██████████████████▍             | 460 kB 5.4 MB/s eta 0:00:01\r\u001b[K     |██████████████████▉             | 471 kB 5.4 MB/s eta 0:00:01\r\u001b[K     |███████████████████▎            | 481 kB 5.4 MB/s eta 0:00:01\r\u001b[K     |███████████████████▋            | 491 kB 5.4 MB/s eta 0:00:01\r\u001b[K     |████████████████████            | 501 kB 5.4 MB/s eta 0:00:01\r\u001b[K     |████████████████████▌           | 512 kB 5.4 MB/s eta 0:00:01\r\u001b[K     |████████████████████▉           | 522 kB 5.4 MB/s eta 0:00:01\r\u001b[K     |█████████████████████▎          | 532 kB 5.4 MB/s eta 0:00:01\r\u001b[K     |█████████████████████▊          | 542 kB 5.4 MB/s eta 0:00:01\r\u001b[K     |██████████████████████          | 552 kB 5.4 MB/s eta 0:00:01\r\u001b[K     |██████████████████████▌         | 563 kB 5.4 MB/s eta 0:00:01\r\u001b[K     |███████████████████████         | 573 kB 5.4 MB/s eta 0:00:01\r\u001b[K     |███████████████████████▍        | 583 kB 5.4 MB/s eta 0:00:01\r\u001b[K     |███████████████████████▊        | 593 kB 5.4 MB/s eta 0:00:01\r\u001b[K     |████████████████████████▏       | 604 kB 5.4 MB/s eta 0:00:01\r\u001b[K     |████████████████████████▋       | 614 kB 5.4 MB/s eta 0:00:01\r\u001b[K     |█████████████████████████       | 624 kB 5.4 MB/s eta 0:00:01\r\u001b[K     |█████████████████████████▍      | 634 kB 5.4 MB/s eta 0:00:01\r\u001b[K     |█████████████████████████▉      | 645 kB 5.4 MB/s eta 0:00:01\r\u001b[K     |██████████████████████████▏     | 655 kB 5.4 MB/s eta 0:00:01\r\u001b[K     |██████████████████████████▋     | 665 kB 5.4 MB/s eta 0:00:01\r\u001b[K     |███████████████████████████     | 675 kB 5.4 MB/s eta 0:00:01\r\u001b[K     |███████████████████████████▍    | 686 kB 5.4 MB/s eta 0:00:01\r\u001b[K     |███████████████████████████▉    | 696 kB 5.4 MB/s eta 0:00:01\r\u001b[K     |████████████████████████████▎   | 706 kB 5.4 MB/s eta 0:00:01\r\u001b[K     |████████████████████████████▋   | 716 kB 5.4 MB/s eta 0:00:01\r\u001b[K     |█████████████████████████████   | 727 kB 5.4 MB/s eta 0:00:01\r\u001b[K     |█████████████████████████████▌  | 737 kB 5.4 MB/s eta 0:00:01\r\u001b[K     |█████████████████████████████▉  | 747 kB 5.4 MB/s eta 0:00:01\r\u001b[K     |██████████████████████████████▎ | 757 kB 5.4 MB/s eta 0:00:01\r\u001b[K     |██████████████████████████████▊ | 768 kB 5.4 MB/s eta 0:00:01\r\u001b[K     |███████████████████████████████▏| 778 kB 5.4 MB/s eta 0:00:01\r\u001b[K     |███████████████████████████████▌| 788 kB 5.4 MB/s eta 0:00:01\r\u001b[K     |████████████████████████████████| 798 kB 5.4 MB/s eta 0:00:01\r\u001b[K     |████████████████████████████████| 800 kB 5.4 MB/s \n",
            "\u001b[?25hRequirement already satisfied: appdirs in /usr/local/lib/python3.7/dist-packages (from pennylane) (1.4.4)\n",
            "Collecting toml\n",
            "  Downloading toml-0.10.2-py2.py3-none-any.whl (16 kB)\n",
            "Requirement already satisfied: networkx in /usr/local/lib/python3.7/dist-packages (from pennylane) (2.6.3)\n",
            "Requirement already satisfied: numpy in /usr/local/lib/python3.7/dist-packages (from pennylane) (1.21.5)\n",
            "Requirement already satisfied: cachetools in /usr/local/lib/python3.7/dist-packages (from pennylane) (4.2.4)\n",
            "Collecting semantic-version==2.6\n",
            "  Downloading semantic_version-2.6.0-py3-none-any.whl (14 kB)\n",
            "Requirement already satisfied: autograd in /usr/local/lib/python3.7/dist-packages (from pennylane) (1.3)\n",
            "Collecting autoray\n",
            "  Downloading autoray-0.2.5-py3-none-any.whl (16 kB)\n",
            "Collecting retworkx\n",
            "  Downloading retworkx-0.11.0-cp37-cp37m-manylinux_2_5_x86_64.manylinux1_x86_64.manylinux_2_12_x86_64.manylinux2010_x86_64.whl (1.6 MB)\n",
            "\u001b[K     |████████████████████████████████| 1.6 MB 48.0 MB/s \n",
            "\u001b[?25hCollecting pennylane-lightning>=0.21\n",
            "  Downloading PennyLane_Lightning-0.21.0-cp37-cp37m-manylinux_2_17_x86_64.manylinux2014_x86_64.whl (7.8 MB)\n",
            "\u001b[K     |████████████████████████████████| 7.8 MB 19.4 MB/s \n",
            "\u001b[?25hRequirement already satisfied: scipy in /usr/local/lib/python3.7/dist-packages (from pennylane) (1.4.1)\n",
            "Collecting ninja\n",
            "  Downloading ninja-1.10.2.3-py2.py3-none-manylinux_2_5_x86_64.manylinux1_x86_64.whl (108 kB)\n",
            "\u001b[K     |████████████████████████████████| 108 kB 52.8 MB/s \n",
            "\u001b[?25hRequirement already satisfied: future>=0.15.2 in /usr/local/lib/python3.7/dist-packages (from autograd->pennylane) (0.16.0)\n",
            "Installing collected packages: ninja, toml, semantic-version, retworkx, pennylane-lightning, autoray, pennylane\n",
            "Successfully installed autoray-0.2.5 ninja-1.10.2.3 pennylane-0.21.0 pennylane-lightning-0.21.0 retworkx-0.11.0 semantic-version-2.6.0 toml-0.10.2\n"
          ]
        }
      ]
    },
    {
      "cell_type": "code",
      "source": [
        "import numpy as np     # Loading the libraries for the implementation\n",
        "import pandas as pd\n",
        "import matplotlib.pyplot as plt\n",
        "import torch\n",
        "from torch.nn.functional import relu\n",
        "\n",
        "from sklearn.svm import SVC\n",
        "from sklearn.preprocessing import StandardScaler\n",
        "from sklearn.metrics import accuracy_score\n",
        "\n",
        "import pennylane as qml   # Using Pennylane libraries for Quantum Computations part\n",
        "from pennylane.templates import AngleEmbedding, StronglyEntanglingLayers\n",
        "from pennylane.operation import Tensor"
      ],
      "metadata": {
        "id": "tFvsGNGlMBmc"
      },
      "execution_count": 17,
      "outputs": []
    },
    {
      "cell_type": "code",
      "source": [
        "train_data = pd.read_csv(\"mock_train_set.csv\") #viewing the training set\n",
        "train_data"
      ],
      "metadata": {
        "colab": {
          "base_uri": "https://localhost:8080/",
          "height": 423
        },
        "id": "--T9QqXIMe1Y",
        "outputId": "82c6b70e-b390-440a-9e26-7cf63a92f819"
      },
      "execution_count": 10,
      "outputs": [
        {
          "output_type": "execute_result",
          "data": {
            "text/html": [
              "\n",
              "  <div id=\"df-43ab12f1-5f7d-4659-bd60-037af7c89d4a\">\n",
              "    <div class=\"colab-df-container\">\n",
              "      <div>\n",
              "<style scoped>\n",
              "    .dataframe tbody tr th:only-of-type {\n",
              "        vertical-align: middle;\n",
              "    }\n",
              "\n",
              "    .dataframe tbody tr th {\n",
              "        vertical-align: top;\n",
              "    }\n",
              "\n",
              "    .dataframe thead th {\n",
              "        text-align: right;\n",
              "    }\n",
              "</style>\n",
              "<table border=\"1\" class=\"dataframe\">\n",
              "  <thead>\n",
              "    <tr style=\"text-align: right;\">\n",
              "      <th></th>\n",
              "      <th>0</th>\n",
              "      <th>1</th>\n",
              "      <th>2</th>\n",
              "      <th>3</th>\n",
              "      <th>4</th>\n",
              "    </tr>\n",
              "  </thead>\n",
              "  <tbody>\n",
              "    <tr>\n",
              "      <th>0</th>\n",
              "      <td>2789.26</td>\n",
              "      <td>1000.0</td>\n",
              "      <td>10.0</td>\n",
              "      <td>20.0</td>\n",
              "      <td>0.0</td>\n",
              "    </tr>\n",
              "    <tr>\n",
              "      <th>1</th>\n",
              "      <td>4040.01</td>\n",
              "      <td>1000000.0</td>\n",
              "      <td>1.0</td>\n",
              "      <td>1.0</td>\n",
              "      <td>1.0</td>\n",
              "    </tr>\n",
              "    <tr>\n",
              "      <th>2</th>\n",
              "      <td>2931.20</td>\n",
              "      <td>10000.0</td>\n",
              "      <td>10000.0</td>\n",
              "      <td>40.0</td>\n",
              "      <td>1.0</td>\n",
              "    </tr>\n",
              "    <tr>\n",
              "      <th>3</th>\n",
              "      <td>3896.54</td>\n",
              "      <td>10000.0</td>\n",
              "      <td>100000.0</td>\n",
              "      <td>30.0</td>\n",
              "      <td>1.0</td>\n",
              "    </tr>\n",
              "    <tr>\n",
              "      <th>4</th>\n",
              "      <td>982.06</td>\n",
              "      <td>100.0</td>\n",
              "      <td>1000.0</td>\n",
              "      <td>75.0</td>\n",
              "      <td>0.0</td>\n",
              "    </tr>\n",
              "    <tr>\n",
              "      <th>...</th>\n",
              "      <td>...</td>\n",
              "      <td>...</td>\n",
              "      <td>...</td>\n",
              "      <td>...</td>\n",
              "      <td>...</td>\n",
              "    </tr>\n",
              "    <tr>\n",
              "      <th>295</th>\n",
              "      <td>1464.52</td>\n",
              "      <td>1000000.0</td>\n",
              "      <td>10000.0</td>\n",
              "      <td>45.0</td>\n",
              "      <td>1.0</td>\n",
              "    </tr>\n",
              "    <tr>\n",
              "      <th>296</th>\n",
              "      <td>3493.66</td>\n",
              "      <td>1000000.0</td>\n",
              "      <td>100000.0</td>\n",
              "      <td>85.0</td>\n",
              "      <td>1.0</td>\n",
              "    </tr>\n",
              "    <tr>\n",
              "      <th>297</th>\n",
              "      <td>4182.81</td>\n",
              "      <td>1.0</td>\n",
              "      <td>1.0</td>\n",
              "      <td>65.0</td>\n",
              "      <td>0.0</td>\n",
              "    </tr>\n",
              "    <tr>\n",
              "      <th>298</th>\n",
              "      <td>3113.75</td>\n",
              "      <td>10000.0</td>\n",
              "      <td>100.0</td>\n",
              "      <td>1.0</td>\n",
              "      <td>1.0</td>\n",
              "    </tr>\n",
              "    <tr>\n",
              "      <th>299</th>\n",
              "      <td>4567.57</td>\n",
              "      <td>10000.0</td>\n",
              "      <td>100000.0</td>\n",
              "      <td>90.0</td>\n",
              "      <td>1.0</td>\n",
              "    </tr>\n",
              "  </tbody>\n",
              "</table>\n",
              "<p>300 rows × 5 columns</p>\n",
              "</div>\n",
              "      <button class=\"colab-df-convert\" onclick=\"convertToInteractive('df-43ab12f1-5f7d-4659-bd60-037af7c89d4a')\"\n",
              "              title=\"Convert this dataframe to an interactive table.\"\n",
              "              style=\"display:none;\">\n",
              "        \n",
              "  <svg xmlns=\"http://www.w3.org/2000/svg\" height=\"24px\"viewBox=\"0 0 24 24\"\n",
              "       width=\"24px\">\n",
              "    <path d=\"M0 0h24v24H0V0z\" fill=\"none\"/>\n",
              "    <path d=\"M18.56 5.44l.94 2.06.94-2.06 2.06-.94-2.06-.94-.94-2.06-.94 2.06-2.06.94zm-11 1L8.5 8.5l.94-2.06 2.06-.94-2.06-.94L8.5 2.5l-.94 2.06-2.06.94zm10 10l.94 2.06.94-2.06 2.06-.94-2.06-.94-.94-2.06-.94 2.06-2.06.94z\"/><path d=\"M17.41 7.96l-1.37-1.37c-.4-.4-.92-.59-1.43-.59-.52 0-1.04.2-1.43.59L10.3 9.45l-7.72 7.72c-.78.78-.78 2.05 0 2.83L4 21.41c.39.39.9.59 1.41.59.51 0 1.02-.2 1.41-.59l7.78-7.78 2.81-2.81c.8-.78.8-2.07 0-2.86zM5.41 20L4 18.59l7.72-7.72 1.47 1.35L5.41 20z\"/>\n",
              "  </svg>\n",
              "      </button>\n",
              "      \n",
              "  <style>\n",
              "    .colab-df-container {\n",
              "      display:flex;\n",
              "      flex-wrap:wrap;\n",
              "      gap: 12px;\n",
              "    }\n",
              "\n",
              "    .colab-df-convert {\n",
              "      background-color: #E8F0FE;\n",
              "      border: none;\n",
              "      border-radius: 50%;\n",
              "      cursor: pointer;\n",
              "      display: none;\n",
              "      fill: #1967D2;\n",
              "      height: 32px;\n",
              "      padding: 0 0 0 0;\n",
              "      width: 32px;\n",
              "    }\n",
              "\n",
              "    .colab-df-convert:hover {\n",
              "      background-color: #E2EBFA;\n",
              "      box-shadow: 0px 1px 2px rgba(60, 64, 67, 0.3), 0px 1px 3px 1px rgba(60, 64, 67, 0.15);\n",
              "      fill: #174EA6;\n",
              "    }\n",
              "\n",
              "    [theme=dark] .colab-df-convert {\n",
              "      background-color: #3B4455;\n",
              "      fill: #D2E3FC;\n",
              "    }\n",
              "\n",
              "    [theme=dark] .colab-df-convert:hover {\n",
              "      background-color: #434B5C;\n",
              "      box-shadow: 0px 1px 3px 1px rgba(0, 0, 0, 0.15);\n",
              "      filter: drop-shadow(0px 1px 2px rgba(0, 0, 0, 0.3));\n",
              "      fill: #FFFFFF;\n",
              "    }\n",
              "  </style>\n",
              "\n",
              "      <script>\n",
              "        const buttonEl =\n",
              "          document.querySelector('#df-43ab12f1-5f7d-4659-bd60-037af7c89d4a button.colab-df-convert');\n",
              "        buttonEl.style.display =\n",
              "          google.colab.kernel.accessAllowed ? 'block' : 'none';\n",
              "\n",
              "        async function convertToInteractive(key) {\n",
              "          const element = document.querySelector('#df-43ab12f1-5f7d-4659-bd60-037af7c89d4a');\n",
              "          const dataTable =\n",
              "            await google.colab.kernel.invokeFunction('convertToInteractive',\n",
              "                                                     [key], {});\n",
              "          if (!dataTable) return;\n",
              "\n",
              "          const docLinkHtml = 'Like what you see? Visit the ' +\n",
              "            '<a target=\"_blank\" href=https://colab.research.google.com/notebooks/data_table.ipynb>data table notebook</a>'\n",
              "            + ' to learn more about interactive tables.';\n",
              "          element.innerHTML = '';\n",
              "          dataTable['output_type'] = 'display_data';\n",
              "          await google.colab.output.renderOutput(dataTable, element);\n",
              "          const docLink = document.createElement('div');\n",
              "          docLink.innerHTML = docLinkHtml;\n",
              "          element.appendChild(docLink);\n",
              "        }\n",
              "      </script>\n",
              "    </div>\n",
              "  </div>\n",
              "  "
            ],
            "text/plain": [
              "           0          1         2     3    4\n",
              "0    2789.26     1000.0      10.0  20.0  0.0\n",
              "1    4040.01  1000000.0       1.0   1.0  1.0\n",
              "2    2931.20    10000.0   10000.0  40.0  1.0\n",
              "3    3896.54    10000.0  100000.0  30.0  1.0\n",
              "4     982.06      100.0    1000.0  75.0  0.0\n",
              "..       ...        ...       ...   ...  ...\n",
              "295  1464.52  1000000.0   10000.0  45.0  1.0\n",
              "296  3493.66  1000000.0  100000.0  85.0  1.0\n",
              "297  4182.81        1.0       1.0  65.0  0.0\n",
              "298  3113.75    10000.0     100.0   1.0  1.0\n",
              "299  4567.57    10000.0  100000.0  90.0  1.0\n",
              "\n",
              "[300 rows x 5 columns]"
            ]
          },
          "metadata": {},
          "execution_count": 10
        }
      ]
    },
    {
      "cell_type": "code",
      "source": [
        "test_data = pd.read_csv(\"mock_test_set.csv\") #viwing the test data\n",
        "test_data"
      ],
      "metadata": {
        "colab": {
          "base_uri": "https://localhost:8080/",
          "height": 423
        },
        "id": "khJfUJEgM_e4",
        "outputId": "44b769e1-c674-44a2-d19a-410094d1d0d2"
      },
      "execution_count": 11,
      "outputs": [
        {
          "output_type": "execute_result",
          "data": {
            "text/html": [
              "\n",
              "  <div id=\"df-f0b7760f-29e4-4ba5-bc06-27c7b432c601\">\n",
              "    <div class=\"colab-df-container\">\n",
              "      <div>\n",
              "<style scoped>\n",
              "    .dataframe tbody tr th:only-of-type {\n",
              "        vertical-align: middle;\n",
              "    }\n",
              "\n",
              "    .dataframe tbody tr th {\n",
              "        vertical-align: top;\n",
              "    }\n",
              "\n",
              "    .dataframe thead th {\n",
              "        text-align: right;\n",
              "    }\n",
              "</style>\n",
              "<table border=\"1\" class=\"dataframe\">\n",
              "  <thead>\n",
              "    <tr style=\"text-align: right;\">\n",
              "      <th></th>\n",
              "      <th>0</th>\n",
              "      <th>1</th>\n",
              "      <th>2</th>\n",
              "      <th>3</th>\n",
              "      <th>4</th>\n",
              "    </tr>\n",
              "  </thead>\n",
              "  <tbody>\n",
              "    <tr>\n",
              "      <th>0</th>\n",
              "      <td>2988.55</td>\n",
              "      <td>10000.0</td>\n",
              "      <td>10000.0</td>\n",
              "      <td>75.0</td>\n",
              "      <td>1.0</td>\n",
              "    </tr>\n",
              "    <tr>\n",
              "      <th>1</th>\n",
              "      <td>3413.80</td>\n",
              "      <td>1.0</td>\n",
              "      <td>100.0</td>\n",
              "      <td>90.0</td>\n",
              "      <td>0.0</td>\n",
              "    </tr>\n",
              "    <tr>\n",
              "      <th>2</th>\n",
              "      <td>3891.52</td>\n",
              "      <td>1.0</td>\n",
              "      <td>1.0</td>\n",
              "      <td>5.0</td>\n",
              "      <td>0.0</td>\n",
              "    </tr>\n",
              "    <tr>\n",
              "      <th>3</th>\n",
              "      <td>4514.99</td>\n",
              "      <td>10000.0</td>\n",
              "      <td>1000000.0</td>\n",
              "      <td>25.0</td>\n",
              "      <td>1.0</td>\n",
              "    </tr>\n",
              "    <tr>\n",
              "      <th>4</th>\n",
              "      <td>752.29</td>\n",
              "      <td>10.0</td>\n",
              "      <td>10.0</td>\n",
              "      <td>90.0</td>\n",
              "      <td>0.0</td>\n",
              "    </tr>\n",
              "    <tr>\n",
              "      <th>...</th>\n",
              "      <td>...</td>\n",
              "      <td>...</td>\n",
              "      <td>...</td>\n",
              "      <td>...</td>\n",
              "      <td>...</td>\n",
              "    </tr>\n",
              "    <tr>\n",
              "      <th>115</th>\n",
              "      <td>3155.94</td>\n",
              "      <td>10000.0</td>\n",
              "      <td>10000.0</td>\n",
              "      <td>35.0</td>\n",
              "      <td>1.0</td>\n",
              "    </tr>\n",
              "    <tr>\n",
              "      <th>116</th>\n",
              "      <td>2795.04</td>\n",
              "      <td>1.0</td>\n",
              "      <td>10.0</td>\n",
              "      <td>45.0</td>\n",
              "      <td>0.0</td>\n",
              "    </tr>\n",
              "    <tr>\n",
              "      <th>117</th>\n",
              "      <td>3702.48</td>\n",
              "      <td>1.0</td>\n",
              "      <td>1.0</td>\n",
              "      <td>20.0</td>\n",
              "      <td>0.0</td>\n",
              "    </tr>\n",
              "    <tr>\n",
              "      <th>118</th>\n",
              "      <td>2790.57</td>\n",
              "      <td>1.0</td>\n",
              "      <td>1.0</td>\n",
              "      <td>40.0</td>\n",
              "      <td>0.0</td>\n",
              "    </tr>\n",
              "    <tr>\n",
              "      <th>119</th>\n",
              "      <td>1848.21</td>\n",
              "      <td>100.0</td>\n",
              "      <td>100.0</td>\n",
              "      <td>90.0</td>\n",
              "      <td>0.0</td>\n",
              "    </tr>\n",
              "  </tbody>\n",
              "</table>\n",
              "<p>120 rows × 5 columns</p>\n",
              "</div>\n",
              "      <button class=\"colab-df-convert\" onclick=\"convertToInteractive('df-f0b7760f-29e4-4ba5-bc06-27c7b432c601')\"\n",
              "              title=\"Convert this dataframe to an interactive table.\"\n",
              "              style=\"display:none;\">\n",
              "        \n",
              "  <svg xmlns=\"http://www.w3.org/2000/svg\" height=\"24px\"viewBox=\"0 0 24 24\"\n",
              "       width=\"24px\">\n",
              "    <path d=\"M0 0h24v24H0V0z\" fill=\"none\"/>\n",
              "    <path d=\"M18.56 5.44l.94 2.06.94-2.06 2.06-.94-2.06-.94-.94-2.06-.94 2.06-2.06.94zm-11 1L8.5 8.5l.94-2.06 2.06-.94-2.06-.94L8.5 2.5l-.94 2.06-2.06.94zm10 10l.94 2.06.94-2.06 2.06-.94-2.06-.94-.94-2.06-.94 2.06-2.06.94z\"/><path d=\"M17.41 7.96l-1.37-1.37c-.4-.4-.92-.59-1.43-.59-.52 0-1.04.2-1.43.59L10.3 9.45l-7.72 7.72c-.78.78-.78 2.05 0 2.83L4 21.41c.39.39.9.59 1.41.59.51 0 1.02-.2 1.41-.59l7.78-7.78 2.81-2.81c.8-.78.8-2.07 0-2.86zM5.41 20L4 18.59l7.72-7.72 1.47 1.35L5.41 20z\"/>\n",
              "  </svg>\n",
              "      </button>\n",
              "      \n",
              "  <style>\n",
              "    .colab-df-container {\n",
              "      display:flex;\n",
              "      flex-wrap:wrap;\n",
              "      gap: 12px;\n",
              "    }\n",
              "\n",
              "    .colab-df-convert {\n",
              "      background-color: #E8F0FE;\n",
              "      border: none;\n",
              "      border-radius: 50%;\n",
              "      cursor: pointer;\n",
              "      display: none;\n",
              "      fill: #1967D2;\n",
              "      height: 32px;\n",
              "      padding: 0 0 0 0;\n",
              "      width: 32px;\n",
              "    }\n",
              "\n",
              "    .colab-df-convert:hover {\n",
              "      background-color: #E2EBFA;\n",
              "      box-shadow: 0px 1px 2px rgba(60, 64, 67, 0.3), 0px 1px 3px 1px rgba(60, 64, 67, 0.15);\n",
              "      fill: #174EA6;\n",
              "    }\n",
              "\n",
              "    [theme=dark] .colab-df-convert {\n",
              "      background-color: #3B4455;\n",
              "      fill: #D2E3FC;\n",
              "    }\n",
              "\n",
              "    [theme=dark] .colab-df-convert:hover {\n",
              "      background-color: #434B5C;\n",
              "      box-shadow: 0px 1px 3px 1px rgba(0, 0, 0, 0.15);\n",
              "      filter: drop-shadow(0px 1px 2px rgba(0, 0, 0, 0.3));\n",
              "      fill: #FFFFFF;\n",
              "    }\n",
              "  </style>\n",
              "\n",
              "      <script>\n",
              "        const buttonEl =\n",
              "          document.querySelector('#df-f0b7760f-29e4-4ba5-bc06-27c7b432c601 button.colab-df-convert');\n",
              "        buttonEl.style.display =\n",
              "          google.colab.kernel.accessAllowed ? 'block' : 'none';\n",
              "\n",
              "        async function convertToInteractive(key) {\n",
              "          const element = document.querySelector('#df-f0b7760f-29e4-4ba5-bc06-27c7b432c601');\n",
              "          const dataTable =\n",
              "            await google.colab.kernel.invokeFunction('convertToInteractive',\n",
              "                                                     [key], {});\n",
              "          if (!dataTable) return;\n",
              "\n",
              "          const docLinkHtml = 'Like what you see? Visit the ' +\n",
              "            '<a target=\"_blank\" href=https://colab.research.google.com/notebooks/data_table.ipynb>data table notebook</a>'\n",
              "            + ' to learn more about interactive tables.';\n",
              "          element.innerHTML = '';\n",
              "          dataTable['output_type'] = 'display_data';\n",
              "          await google.colab.output.renderOutput(dataTable, element);\n",
              "          const docLink = document.createElement('div');\n",
              "          docLink.innerHTML = docLinkHtml;\n",
              "          element.appendChild(docLink);\n",
              "        }\n",
              "      </script>\n",
              "    </div>\n",
              "  </div>\n",
              "  "
            ],
            "text/plain": [
              "           0        1          2     3    4\n",
              "0    2988.55  10000.0    10000.0  75.0  1.0\n",
              "1    3413.80      1.0      100.0  90.0  0.0\n",
              "2    3891.52      1.0        1.0   5.0  0.0\n",
              "3    4514.99  10000.0  1000000.0  25.0  1.0\n",
              "4     752.29     10.0       10.0  90.0  0.0\n",
              "..       ...      ...        ...   ...  ...\n",
              "115  3155.94  10000.0    10000.0  35.0  1.0\n",
              "116  2795.04      1.0       10.0  45.0  0.0\n",
              "117  3702.48      1.0        1.0  20.0  0.0\n",
              "118  2790.57      1.0        1.0  40.0  0.0\n",
              "119  1848.21    100.0      100.0  90.0  0.0\n",
              "\n",
              "[120 rows x 5 columns]"
            ]
          },
          "metadata": {},
          "execution_count": 11
        }
      ]
    },
    {
      "cell_type": "code",
      "source": [
        "train_data = np.array(train_data) #fine tunning the data for encoding\n",
        "x_train = train_data[:,0:4]    # using columns from 0 to 3 for training\n",
        "scalerx = StandardScaler().fit(x_train)\n",
        "x_train = scalerx.transform(x_train)\n",
        "y_train = train_data[:,4]\n",
        "y_train = 2*(y_train - 0.5)\n",
        "\n",
        "test_data = np.array(test_data)\n",
        "x_test = test_data[:,0:4]\n",
        "scalerX = StandardScaler().fit(x_test)\n",
        "x_test = scalerX.transform(x_test)\n",
        "y_test = test_data[:,4]\n",
        "y_test = 2*(y_test - 0.5)"
      ],
      "metadata": {
        "id": "dpX9oe1GNNFD"
      },
      "execution_count": 12,
      "outputs": []
    },
    {
      "cell_type": "code",
      "source": [
        "n_qubits = len(x_train[0]) # == number of features we want to use for the training (for angle encoding)\n",
        "n_qubits"
      ],
      "metadata": {
        "colab": {
          "base_uri": "https://localhost:8080/"
        },
        "id": "kgHn8gkUNn6M",
        "outputId": "a09dbc1d-88b7-4ca3-f5f4-7050b152418d"
      },
      "execution_count": 14,
      "outputs": [
        {
          "output_type": "execute_result",
          "data": {
            "text/plain": [
              "4"
            ]
          },
          "metadata": {},
          "execution_count": 14
        }
      ]
    },
    {
      "cell_type": "code",
      "source": [
        "# using Quantum Kernel Method"
      ],
      "metadata": {
        "id": "2szswC62Z4Xh"
      },
      "execution_count": 34,
      "outputs": []
    },
    {
      "cell_type": "code",
      "source": [
        "dev_kernel = qml.device(\"default.qubit\", wires=n_qubits)\n",
        "\n",
        "projector = np.zeros((2**n_qubits, 2**n_qubits))\n",
        "projector[0, 0] = 1\n",
        "\n",
        "@qml.qnode(dev_kernel)\n",
        "\n",
        "def kernel(x1, x2):  #the quantum kernel\n",
        "  AngleEmbedding(x1, wires=range(n_qubits))\n",
        "  qml.adjoint(AngleEmbedding)(x2, wires=range(n_qubits))\n",
        "  return qml.expval(qml.Hermitian(projector, wires=range(n_qubits)))\n",
        "\n",
        "def kernel_matrix(A, B): # computing the kernel matrix\n",
        "  return np.array([[kernel(a, b) for b in B] for a in A])"
      ],
      "metadata": {
        "id": "va-jkGwJN7zc"
      },
      "execution_count": 15,
      "outputs": []
    },
    {
      "cell_type": "code",
      "source": [
        "svm = SVC(kernel=kernel_matrix).fit(x_train, y_train) # training the SVM"
      ],
      "metadata": {
        "id": "IcBGyWmuPm2O"
      },
      "execution_count": 18,
      "outputs": []
    },
    {
      "cell_type": "code",
      "source": [
        "#arbitary predicting the 69th entry of x_test and comparing with its y_test\n",
        "print(\"Predicted Value = \",svm.predict([x_test[69]])[0],\"& Actual Value = \",y_test[69])"
      ],
      "metadata": {
        "colab": {
          "base_uri": "https://localhost:8080/"
        },
        "id": "US78g78CUsIl",
        "outputId": "4c9f586f-bf7a-40b8-97ee-62cf777a48f2"
      },
      "execution_count": 29,
      "outputs": [
        {
          "output_type": "stream",
          "name": "stdout",
          "text": [
            "Predicted Value =  1.0 & Actual Value =  1.0\n"
          ]
        }
      ]
    },
    {
      "cell_type": "code",
      "source": [
        "predictions = svm.predict(x_test) # Analysing the prediction for test dataset\n",
        "accuracy_score(predictions, y_test)"
      ],
      "metadata": {
        "colab": {
          "base_uri": "https://localhost:8080/"
        },
        "id": "hyvgvIQXTByS",
        "outputId": "49aa816a-f0cb-4f0e-b0d3-b09cccaac011"
      },
      "execution_count": 30,
      "outputs": [
        {
          "output_type": "execute_result",
          "data": {
            "text/plain": [
              "0.8666666666666667"
            ]
          },
          "metadata": {},
          "execution_count": 30
        }
      ]
    },
    {
      "cell_type": "code",
      "source": [
        "#using the Variational Method"
      ],
      "metadata": {
        "id": "KsTT8VY5URqF"
      },
      "execution_count": 38,
      "outputs": []
    },
    {
      "cell_type": "code",
      "source": [
        "dev_var = qml.device(\"default.qubit\", wires=n_qubits)\n",
        "\n",
        "@qml.qnode(dev_var, interface=\"torch\", diff_method=\"parameter-shift\")\n",
        "\n",
        "def quantum_model(x, params): # variational circuit\n",
        "  AngleEmbedding(x, wires=range(n_qubits))\n",
        "  StronglyEntanglingLayers(params, wires=range(n_qubits))\n",
        "  return qml.expval(qml.PauliZ(0))\n",
        "\n",
        "def quantum_model_plus_bias(x, params, bias): # adding bias to the system\n",
        "    return quantum_model(x, params) + bias\n",
        "\n",
        "def hinge_loss(predictions, targets):\n",
        "    all_ones = torch.ones_like(targets)\n",
        "    hinge_loss = all_ones - predictions * targets\n",
        "    hinge_loss = relu(hinge_loss)\n",
        "    return hinge_loss\n",
        "\n",
        "def quantum_model_train(n_layers, steps, batch_size): # training the variational circuit\n",
        "   \n",
        "    params = np.random.random((n_layers, n_qubits, 3))\n",
        "    params_torch = torch.tensor(params, requires_grad=True)\n",
        "    bias_torch = torch.tensor(0.0)\n",
        "\n",
        "    opt = torch.optim.Adam([params_torch, bias_torch], lr=0.1)\n",
        "\n",
        "    loss_history = []\n",
        "    for i in range(steps):\n",
        "\n",
        "        batch_ids = np.random.choice(len(x_train), batch_size)\n",
        "\n",
        "        X_batch = x_train[batch_ids]\n",
        "        y_batch = y_train[batch_ids]\n",
        "\n",
        "        X_batch_torch = torch.tensor(X_batch, requires_grad=False)\n",
        "        y_batch_torch = torch.tensor(y_batch, requires_grad=False)\n",
        "\n",
        "        def closure():\n",
        "            opt.zero_grad()\n",
        "            preds = torch.stack([quantum_model_plus_bias(x, params_torch, bias_torch) for x in X_batch_torch])\n",
        "            loss = torch.mean(hinge_loss(preds, y_batch_torch))\n",
        "            current_loss = loss.detach().numpy().item()\n",
        "            loss_history.append(current_loss)\n",
        "            if i % 10 == 0:\n",
        "                print(\"step\", i, \", loss\", current_loss)\n",
        "\n",
        "            loss.backward()\n",
        "            return loss\n",
        "\n",
        "        opt.step(closure)\n",
        "\n",
        "    return params_torch, bias_torch, loss_history\n",
        "\n",
        "\n",
        "def quantum_model_predict(X_pred, trained_params, trained_bias): # predicting the result\n",
        "    \n",
        "    p = []\n",
        "    for x in X_pred:\n",
        "\n",
        "        x_torch = torch.tensor(x)\n",
        "        pred_torch = quantum_model_plus_bias(x_torch, trained_params, trained_bias)\n",
        "        pred = pred_torch.detach().numpy().item()\n",
        "        if pred > 0:\n",
        "            pred = 1\n",
        "        else:\n",
        "            pred = -1\n",
        "\n",
        "        p.append(pred)\n",
        "    return p"
      ],
      "metadata": {
        "id": "ATPeuYDtXNXR"
      },
      "execution_count": 41,
      "outputs": []
    },
    {
      "cell_type": "code",
      "source": [
        "n_layers = 2\n",
        "batch_size = 20\n",
        "steps = 50\n",
        "trained_params, trained_bias, loss_history = quantum_model_train(n_layers, steps, batch_size)\n",
        "\n",
        "pred_test = quantum_model_predict(x_test, trained_params, trained_bias)\n",
        "print(\"accuracy on test set:\", accuracy_score(pred_test, y_test))\n",
        "\n",
        "plt.plot(loss_history)\n",
        "plt.ylim((0, 1))\n",
        "plt.xlabel(\"steps\")\n",
        "plt.ylabel(\"cost\")\n",
        "plt.show()\n"
      ],
      "metadata": {
        "colab": {
          "base_uri": "https://localhost:8080/",
          "height": 387
        },
        "id": "M3zSJR5dgEjd",
        "outputId": "ebdf2446-a81d-4ca1-ab09-8e35d16a1d99"
      },
      "execution_count": 44,
      "outputs": [
        {
          "output_type": "stream",
          "name": "stdout",
          "text": [
            "step 0 , loss 1.1505295585402282\n",
            "step 10 , loss 0.965950705664849\n",
            "step 20 , loss 0.9583043964768081\n",
            "step 30 , loss 0.8382898613390118\n",
            "step 40 , loss 0.9931068775615541\n",
            "accuracy on test set: 0.575\n"
          ]
        },
        {
          "output_type": "display_data",
          "data": {
            "image/png": "[encoded data removed]",
            "text/plain": [
              "<Figure size 432x288 with 1 Axes>"
            ]
          },
          "metadata": {
            "needs_background": "light"
          }
        }
      ]
    },
    {
      "cell_type": "code",
      "source": [
        "n_layers = 3\n",
        "batch_size = 20\n",
        "steps = 50\n",
        "trained_params, trained_bias, loss_history = quantum_model_train(n_layers, steps, batch_size)\n",
        "\n",
        "pred_test = quantum_model_predict(x_test, trained_params, trained_bias)\n",
        "print(\"accuracy on test set:\", accuracy_score(pred_test, y_test))\n",
        "\n",
        "plt.plot(loss_history)\n",
        "plt.ylim((0, 1))\n",
        "plt.xlabel(\"steps\")\n",
        "plt.ylabel(\"cost\")\n",
        "plt.show()\n"
      ],
      "metadata": {
        "colab": {
          "base_uri": "https://localhost:8080/",
          "height": 387
        },
        "id": "mWqs6HNzYTqT",
        "outputId": "3d36360e-17d3-48c3-b8e3-2d2763e58499"
      },
      "execution_count": 42,
      "outputs": [
        {
          "output_type": "stream",
          "name": "stdout",
          "text": [
            "step 0 , loss 1.0248552302099445\n",
            "step 10 , loss 0.9069266767197413\n",
            "step 20 , loss 0.8808269852579619\n",
            "step 30 , loss 0.49176155224593376\n",
            "step 40 , loss 0.5371279113960882\n",
            "accuracy on test set: 0.8083333333333333\n"
          ]
        },
        {
          "output_type": "display_data",
          "data": {
            "image/png": "[encoded data removed]",
            "text/plain": [
              "<Figure size 432x288 with 1 Axes>"
            ]
          },
          "metadata": {
            "needs_background": "light"
          }
        }
      ]
    },
    {
      "cell_type": "code",
      "source": [
        "n_layers = 4\n",
        "batch_size = 20\n",
        "steps = 50\n",
        "trained_params, trained_bias, loss_history = quantum_model_train(n_layers, steps, batch_size)\n",
        "\n",
        "pred_test = quantum_model_predict(x_test, trained_params, trained_bias)\n",
        "print(\"accuracy on test set:\", accuracy_score(pred_test, y_test))\n",
        "\n",
        "plt.plot(loss_history)\n",
        "plt.ylim((0, 1))\n",
        "plt.xlabel(\"steps\")\n",
        "plt.ylabel(\"cost\")\n",
        "plt.show()\n"
      ],
      "metadata": {
        "colab": {
          "base_uri": "https://localhost:8080/",
          "height": 387
        },
        "id": "Dv8Mkt3kaVRa",
        "outputId": "84cf98bd-a5ed-4196-fade-6e73385e69c6"
      },
      "execution_count": 43,
      "outputs": [
        {
          "output_type": "stream",
          "name": "stdout",
          "text": [
            "step 0 , loss 0.9359088922051422\n",
            "step 10 , loss 0.7232912524727761\n",
            "step 20 , loss 0.7170092224092759\n",
            "step 30 , loss 0.5852200674045819\n",
            "step 40 , loss 0.7484420665638352\n",
            "accuracy on test set: 0.7916666666666666\n"
          ]
        },
        {
          "output_type": "display_data",
          "data": {
            "image/png": "[encoded data removed]",
            "text/plain": [
              "<Figure size 432x288 with 1 Axes>"
            ]
          },
          "metadata": {
            "needs_background": "light"
          }
        }
      ]
    },
    {
      "cell_type": "code",
      "source": [
        "n_layers = 5\n",
        "batch_size = 20\n",
        "steps = 50\n",
        "trained_params, trained_bias, loss_history = quantum_model_train(n_layers, steps, batch_size)\n",
        "\n",
        "pred_test = quantum_model_predict(x_test, trained_params, trained_bias)\n",
        "print(\"accuracy on test set:\", accuracy_score(pred_test, y_test))\n",
        "\n",
        "plt.plot(loss_history)\n",
        "plt.ylim((0, 1))\n",
        "plt.xlabel(\"steps\")\n",
        "plt.ylabel(\"cost\")\n",
        "plt.show()"
      ],
      "metadata": {
        "colab": {
          "base_uri": "https://localhost:8080/",
          "height": 387
        },
        "id": "-yrfjTTic4W3",
        "outputId": "870e0ff5-4125-4be9-bf99-d310a6299df8"
      },
      "execution_count": 45,
      "outputs": [
        {
          "output_type": "stream",
          "name": "stdout",
          "text": [
            "step 0 , loss 1.0265856673095293\n",
            "step 10 , loss 0.9710646775310504\n",
            "step 20 , loss 0.883417367736617\n",
            "step 30 , loss 0.8228375732216978\n",
            "step 40 , loss 0.6321652818269461\n",
            "accuracy on test set: 0.8666666666666667\n"
          ]
        },
        {
          "output_type": "display_data",
          "data": {
            "image/png": "[encoded data removed]",
            "text/plain": [
              "<Figure size 432x288 with 1 Axes>"
            ]
          },
          "metadata": {
            "needs_background": "light"
          }
        }
      ]
    },
    {
      "cell_type": "code",
      "source": [
        "n_layers = 6\n",
        "batch_size = 20\n",
        "steps = 50\n",
        "trained_params, trained_bias, loss_history = quantum_model_train(n_layers, steps, batch_size)\n",
        "\n",
        "pred_test = quantum_model_predict(x_test, trained_params, trained_bias)\n",
        "print(\"accuracy on test set:\", accuracy_score(pred_test, y_test))\n",
        "\n",
        "plt.plot(loss_history)\n",
        "plt.ylim((0, 1))\n",
        "plt.xlabel(\"steps\")\n",
        "plt.ylabel(\"cost\")\n",
        "plt.show()"
      ],
      "metadata": {
        "colab": {
          "base_uri": "https://localhost:8080/",
          "height": 387
        },
        "id": "uxCVeTOskkOZ",
        "outputId": "fb6147b9-1fd9-44cf-f6c8-44bc444f1e7b"
      },
      "execution_count": 47,
      "outputs": [
        {
          "output_type": "stream",
          "name": "stdout",
          "text": [
            "step 0 , loss 1.1211819130054963\n",
            "step 10 , loss 0.8785504006111469\n",
            "step 20 , loss 0.9764708472295304\n",
            "step 30 , loss 0.5139181310037588\n",
            "step 40 , loss 0.6898935384436697\n",
            "accuracy on test set: 0.8666666666666667\n"
          ]
        },
        {
          "output_type": "display_data",
          "data": {
            "image/png": "[encoded data removed]",
            "text/plain": [
              "<Figure size 432x288 with 1 Axes>"
            ]
          },
          "metadata": {
            "needs_background": "light"
          }
        }
      ]
    },
    {
      "cell_type": "code",
      "source": [
        "# We see that accuracy on test datasets is optimum for five layers (n=5) in this case."
      ],
      "metadata": {
        "id": "pqM4x03dgOja"
      },
      "execution_count": null,
      "outputs": []
    },
    {
      "cell_type": "code",
      "source": [
        "# Acknowledgement : Demos section, Pennylane"
      ],
      "metadata": {
        "id": "3CHOsjPPhWxq"
      },
      "execution_count": 46,
      "outputs": []
    }
  ]
}